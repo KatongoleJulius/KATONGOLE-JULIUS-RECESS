{
 "cells": [
  {
   "cell_type": "code",
   "execution_count": 3,
   "id": "91c71e6e",
   "metadata": {},
   "outputs": [],
   "source": [
    "file = open(\"julius.txt\", \"r\")\n",
    "# r is used for read mode"
   ]
  },
  {
   "cell_type": "code",
   "execution_count": 4,
   "id": "78b54648",
   "metadata": {},
   "outputs": [
    {
     "name": "stdout",
     "output_type": "stream",
     "text": [
      "working with text files\n"
     ]
    }
   ],
   "source": [
    "#reading content of the file\n",
    "#content is a variable, read is a method\n",
    "content = file.read()\n",
    "print(content)  #output the variable\n",
    "file.close()  #closing the file"
   ]
  },
  {
   "cell_type": "code",
   "execution_count": 5,
   "id": "2c56c9cd",
   "metadata": {},
   "outputs": [],
   "source": [
    "with open (\"jim.txt\", \"w\") as file:\n",
    " file.write(\"Hello, good morning.Welcome to writing files\")"
   ]
  }
 ],
 "metadata": {
  "kernelspec": {
   "display_name": "Python 3",
   "language": "python",
   "name": "python3"
  },
  "language_info": {
   "codemirror_mode": {
    "name": "ipython",
    "version": 3
   },
   "file_extension": ".py",
   "mimetype": "text/x-python",
   "name": "python",
   "nbconvert_exporter": "python",
   "pygments_lexer": "ipython3",
   "version": "3.12.6"
  }
 },
 "nbformat": 4,
 "nbformat_minor": 5
}
