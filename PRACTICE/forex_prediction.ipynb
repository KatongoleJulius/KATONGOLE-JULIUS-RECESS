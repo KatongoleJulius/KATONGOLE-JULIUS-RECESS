{
 "cells": [
  {
   "cell_type": "code",
   "execution_count": null,
   "id": "47db7141",
   "metadata": {},
   "outputs": [],
   "source": [
    "%pip install pandas\n",
    "%pip install numpy\n",
    "%pip install seaborn\n",
    "%pip install matplotlib\n",
    "%pip install "
   ]
  },
  {
   "cell_type": "code",
   "execution_count": null,
   "id": "fb121b99",
   "metadata": {},
   "outputs": [],
   "source": [
    "import pandas as pd\n",
    "import numpy as np\n",
    "import matplotlib.pyplot as plt\n",
    "import seaborn as sns\n",
    "from datetime import datetime"
   ]
  },
  {
   "cell_type": "code",
   "execution_count": null,
   "id": "95e85c35",
   "metadata": {},
   "outputs": [],
   "source": [
    "df = pd.read_csv('forex_predictions_data.csv')\n",
    "\n",
    "df.head()"
   ]
  },
  {
   "cell_type": "code",
   "execution_count": null,
   "id": "502e125e",
   "metadata": {},
   "outputs": [],
   "source": [
    "df. describe()\n"
   ]
  },
  {
   "cell_type": "code",
   "execution_count": null,
   "id": "5d2c76f8",
   "metadata": {},
   "outputs": [],
   "source": [
    "df.shape"
   ]
  },
  {
   "cell_type": "code",
   "execution_count": null,
   "id": "b397c982",
   "metadata": {},
   "outputs": [],
   "source": [
    "#handling bad data\n",
    "print('Missing values')\n",
    "print(df.isnull().sum)"
   ]
  },
  {
   "cell_type": "code",
   "execution_count": null,
   "id": "793a748e",
   "metadata": {},
   "outputs": [],
   "source": [
    "#handling missing values\n",
    "\n",
    "numeric_cols = ['Open', 'High' 'Low', 'Close', 'Volume', 'Predicted', 'Close', 'Confidence']\n",
    "for col in numeric_cols:\n",
    "    \n"
   ]
  }
 ],
 "metadata": {
  "kernelspec": {
   "display_name": "Python 3",
   "language": "python",
   "name": "python3"
  },
  "language_info": {
   "codemirror_mode": {
    "name": "ipython",
    "version": 3
   },
   "file_extension": ".py",
   "mimetype": "text/x-python",
   "name": "python",
   "nbconvert_exporter": "python",
   "pygments_lexer": "ipython3",
   "version": "3.12.6"
  }
 },
 "nbformat": 4,
 "nbformat_minor": 5
}
