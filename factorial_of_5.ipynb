{
 "cells": [
  {
   "cell_type": "code",
   "execution_count": null,
   "id": "d14447d3",
   "metadata": {},
   "outputs": [],
   "source": [
    "#  ITERATIVE APPROACH\n",
    "\n",
    "def factorial_iterative(n):\n",
    "    \"\"\"Calculate factorial using a loop.\"\"\"\n",
    "    result = 1\n",
    "    for i in range(1, n + 1):  # Loop from 1 to n\n",
    "        result *= i\n",
    "    return result\n",
    "\n",
    "# Calculate factorial of 5\n",
    "num = 5\n",
    "print(f\"Factorial of {num} (iterative): {factorial_iterative(num)}\")"
   ]
  },
  {
   "cell_type": "code",
   "execution_count": null,
   "id": "60db043e",
   "metadata": {},
   "outputs": [],
   "source": [
    "# ===== RECURSIVE APPROACH =====\n",
    "def factorial_recursive(n):\n",
    "    \"\"\"Calculate factorial using recursion.\"\"\"\n",
    "    if n == 0 or n == 1:  # Base case\n",
    "        return 1\n",
    "    else:\n",
    "        return n * factorial_recursive(n - 1)  # Recursive call\n",
    "\n",
    "# Calculate factorial of 5\n",
    "num = 5\n",
    "print(f\"Factorial of {num} (recursive): {factorial_recursive(num)}\")"
   ]
  }
 ],
 "metadata": {
  "kernelspec": {
   "display_name": "base",
   "language": "python",
   "name": "python3"
  },
  "language_info": {
   "codemirror_mode": {
    "name": "ipython",
    "version": 3
   },
   "file_extension": ".py",
   "mimetype": "text/x-python",
   "name": "python",
   "nbconvert_exporter": "python",
   "pygments_lexer": "ipython3",
   "version": "3.12.7"
  }
 },
 "nbformat": 4,
 "nbformat_minor": 5
}
